{
 "cells": [
  {
   "cell_type": "code",
   "execution_count": 3,
   "metadata": {},
   "outputs": [
    {
     "name": "stdout",
     "output_type": "stream",
     "text": [
      "   AAA  BBB  CCC\n",
      "0    4   10  100\n",
      "1    5   20   50\n",
      "2    6   30  -30\n",
      "3    7   40  -50\n",
      "   AAA  BBB  CCC\n",
      "0    4   10  100\n",
      "1    5   -1   50\n",
      "2    6   -1  -30\n",
      "3    7   -1  -50\n",
      "   AAA  BBB  CCC\n",
      "0    4   10  100\n",
      "1    5  555  555\n",
      "2    6  555  555\n",
      "3    7  555  555\n",
      "   AAA   BBB   CCC\n",
      "0    4  2000  2000\n",
      "1    5   555   555\n",
      "2    6   555   555\n",
      "3    7   555   555\n"
     ]
    }
   ],
   "source": [
    "import pandas as pd\n",
    "import numpy as np\n",
    "df=pd.DataFrame({\n",
    "    'AAA':[4,5,6,7],\n",
    "    'BBB':[10,20,30,40],\n",
    "    'CCC':[100,50,-30,-50]\n",
    "})\n",
    "print(df)\n",
    "\n",
    "df.loc[df.AAA>=5,'BBB']=-1#one-column\n",
    "print(df)\n",
    "\n",
    "df.loc[df.AAA>=5,['BBB','CCC']]=555\n",
    "print(df)\n",
    "df.loc[df.AAA<5,['BBB','CCC']]=2000\n",
    "print(df)"
   ]
  },
  {
   "cell_type": "code",
   "execution_count": 9,
   "metadata": {},
   "outputs": [
    {
     "name": "stdout",
     "output_type": "stream",
     "text": [
      "    AAA    BBB    CCC\n",
      "0  True  False   True\n",
      "1  True  False  False\n",
      "2  True  False   True\n",
      "3  True  False  False\n"
     ]
    },
    {
     "data": {
      "text/html": [
       "<div>\n",
       "<style scoped>\n",
       "    .dataframe tbody tr th:only-of-type {\n",
       "        vertical-align: middle;\n",
       "    }\n",
       "\n",
       "    .dataframe tbody tr th {\n",
       "        vertical-align: top;\n",
       "    }\n",
       "\n",
       "    .dataframe thead th {\n",
       "        text-align: right;\n",
       "    }\n",
       "</style>\n",
       "<table border=\"1\" class=\"dataframe\">\n",
       "  <thead>\n",
       "    <tr style=\"text-align: right;\">\n",
       "      <th></th>\n",
       "      <th>AAA</th>\n",
       "      <th>BBB</th>\n",
       "      <th>CCC</th>\n",
       "    </tr>\n",
       "  </thead>\n",
       "  <tbody>\n",
       "    <tr>\n",
       "      <th>0</th>\n",
       "      <td>4</td>\n",
       "      <td>-1000</td>\n",
       "      <td>2000</td>\n",
       "    </tr>\n",
       "    <tr>\n",
       "      <th>1</th>\n",
       "      <td>5</td>\n",
       "      <td>-1000</td>\n",
       "      <td>-1000</td>\n",
       "    </tr>\n",
       "    <tr>\n",
       "      <th>2</th>\n",
       "      <td>6</td>\n",
       "      <td>-1000</td>\n",
       "      <td>555</td>\n",
       "    </tr>\n",
       "    <tr>\n",
       "      <th>3</th>\n",
       "      <td>7</td>\n",
       "      <td>-1000</td>\n",
       "      <td>-1000</td>\n",
       "    </tr>\n",
       "  </tbody>\n",
       "</table>\n",
       "</div>"
      ],
      "text/plain": [
       "   AAA   BBB   CCC\n",
       "0    4 -1000  2000\n",
       "1    5 -1000 -1000\n",
       "2    6 -1000   555\n",
       "3    7 -1000 -1000"
      ]
     },
     "execution_count": 9,
     "metadata": {},
     "output_type": "execute_result"
    }
   ],
   "source": [
    "df_mask=pd.DataFrame({\n",
    "    'AAA':[True]*4,\n",
    "    'BBB':[False]*4,\n",
    "    'CCC':[True,False]*2\n",
    "})\n",
    "print(df_mask)\n",
    "df.where(df_mask,-1000)#True 保留原始数据,False 使用新数据"
   ]
  },
  {
   "cell_type": "code",
   "execution_count": 19,
   "metadata": {},
   "outputs": [
    {
     "name": "stdout",
     "output_type": "stream",
     "text": [
      "   AAA  BBB  CCC\n",
      "0    4   10  100\n",
      "1    5   20   50\n",
      "2    6   30  -30\n",
      "3    7   40  -50\n",
      "   AAA  BBB  CCC logic\n",
      "0    4   10  100   low\n",
      "1    5   20   50   low\n",
      "2    6   30  -30  high\n",
      "3    7   40  -50  high\n"
     ]
    }
   ],
   "source": [
    "# if-then-else using numpy's where()\n",
    "df=pd.DataFrame({\n",
    "    'AAA':[4,5,6,7],\n",
    "    'BBB':[10,20,30,40],\n",
    "    'CCC':[100,50,-30,-50]\n",
    "})\n",
    "print(df)\n",
    "df['logic']=np.where(df['AAA']>5,'high','low')#>5 为high <=5 为low\n",
    "print(df)"
   ]
  },
  {
   "cell_type": "code",
   "execution_count": 22,
   "metadata": {},
   "outputs": [
    {
     "name": "stdout",
     "output_type": "stream",
     "text": [
      "   AAA  BBB  CCC\n",
      "0    4   10  100\n",
      "1    5   20   50\n",
      "2    6   30  -30\n",
      "3    7   40  -50\n",
      "   AAA  BBB  CCC\n",
      "0    4   10  100\n",
      "1    5   20   50\n",
      "   AAA  BBB  CCC\n",
      "2    6   30  -30\n",
      "3    7   40  -50\n"
     ]
    }
   ],
   "source": [
    "#split a frame with boolean criterion\n",
    "df=pd.DataFrame({\n",
    "    'AAA':[4,5,6,7],\n",
    "    'BBB':[10,20,30,40],\n",
    "    'CCC':[100,50,-30,-50]\n",
    "})\n",
    "print(df)\n",
    "dflow=df[df.AAA<=5]\n",
    "print(dflow)\n",
    "dfhigh=df[df['AAA']>5]\n",
    "print(dfhigh)"
   ]
  },
  {
   "cell_type": "code",
   "execution_count": 29,
   "metadata": {},
   "outputs": [
    {
     "name": "stdout",
     "output_type": "stream",
     "text": [
      "0     True\n",
      "1     True\n",
      "2    False\n",
      "3    False\n",
      "dtype: bool\n",
      "0    4\n",
      "1    5\n",
      "Name: AAA, dtype: int64\n",
      "   AAA  BBB  CCC\n",
      "0  0.1   10  100\n",
      "1  5.0   20   50\n",
      "2  0.1   30  -30\n",
      "3  0.1   40  -50\n"
     ]
    }
   ],
   "source": [
    "#Select with multi-column Criteria\n",
    "df=pd.DataFrame({\n",
    "    'AAA':[4,5,6,7],\n",
    "    'BBB':[10,20,30,40],\n",
    "    'CCC':[100,50,-30,-50]\n",
    "})\n",
    "criteria=(df['BBB']<25)&(df['CCC']>=-40)  #判断某一行是否满足?\n",
    "print(criteria)\n",
    "newseries=df.loc[criteria,'AAA']#获取值\n",
    "print(newseries)\n",
    "df.loc[(df['BBB']>25)|(df['CCC']>=75),'AAA']=0.1\n",
    "print(df)"
   ]
  },
  {
   "cell_type": "code",
   "execution_count": 34,
   "metadata": {},
   "outputs": [
    {
     "name": "stdout",
     "output_type": "stream",
     "text": [
      "   AAA  BBB  CCC\n",
      "0    4   10  100\n",
      "1    5   20   50\n",
      "2    6   30  -30\n",
      "3    7   40  -50\n",
      "0    2\n",
      "1    1\n",
      "2    3\n",
      "3    0\n",
      "Name: CCC, dtype: int64\n",
      "   AAA  BBB  CCC\n",
      "2    6   30  -30\n",
      "1    5   20   50\n",
      "3    7   40  -50\n",
      "0    4   10  100\n"
     ]
    }
   ],
   "source": [
    "df=pd.DataFrame({\n",
    "    'AAA':[4,5,6,7],\n",
    "    'BBB':[10,20,30,40],\n",
    "    'CCC':[100,50,-30,-50]\n",
    "})\n",
    "print(df)\n",
    "aValue=0\n",
    "print((df.CCC-aValue).abs().argsort())\n",
    "print(df.loc[(df.CCC-aValue).abs().argsort()])"
   ]
  },
  {
   "cell_type": "code",
   "execution_count": 40,
   "metadata": {},
   "outputs": [
    {
     "name": "stdout",
     "output_type": "stream",
     "text": [
      "   AAA  BBB  CCC\n",
      "0    4   10  100\n",
      "1    5   20   50\n",
      "2    6   30  -30\n",
      "3    7   40  -50\n",
      "   AAA  BBB  CCC\n",
      "0    4   10  100\n",
      "   AAA  BBB  CCC\n",
      "0    4   10  100\n"
     ]
    }
   ],
   "source": [
    "import functools\n",
    "df=pd.DataFrame({\n",
    "    'AAA':[4,5,6,7],\n",
    "    'BBB':[10,20,30,40],\n",
    "    'CCC':[100,50,-30,-50]\n",
    "})\n",
    "print(df)\n",
    "Crit1=df.AAA<=5.5\n",
    "Crit2=df.BBB==10.0\n",
    "Crit3=df.CCC>-40.0\n",
    "#第一种方法\n",
    "AllCrit=Crit1&Crit2&Crit3\n",
    "print(df[AllCrit])\n",
    "#第二种方法\n",
    "AllCrit=functools.reduce(lambda x,y:x&y,[Crit1,Crit2,Crit3])\n",
    "print(df[AllCrit])"
   ]
  },
  {
   "cell_type": "code",
   "execution_count": 42,
   "metadata": {},
   "outputs": [
    {
     "data": {
      "text/html": [
       "<div>\n",
       "<style scoped>\n",
       "    .dataframe tbody tr th:only-of-type {\n",
       "        vertical-align: middle;\n",
       "    }\n",
       "\n",
       "    .dataframe tbody tr th {\n",
       "        vertical-align: top;\n",
       "    }\n",
       "\n",
       "    .dataframe thead th {\n",
       "        text-align: right;\n",
       "    }\n",
       "</style>\n",
       "<table border=\"1\" class=\"dataframe\">\n",
       "  <thead>\n",
       "    <tr style=\"text-align: right;\">\n",
       "      <th></th>\n",
       "      <th>AAA</th>\n",
       "      <th>BBB</th>\n",
       "      <th>CCC</th>\n",
       "    </tr>\n",
       "  </thead>\n",
       "  <tbody>\n",
       "    <tr>\n",
       "      <th>0</th>\n",
       "      <td>4</td>\n",
       "      <td>10</td>\n",
       "      <td>100</td>\n",
       "    </tr>\n",
       "    <tr>\n",
       "      <th>2</th>\n",
       "      <td>6</td>\n",
       "      <td>30</td>\n",
       "      <td>-30</td>\n",
       "    </tr>\n",
       "  </tbody>\n",
       "</table>\n",
       "</div>"
      ],
      "text/plain": [
       "   AAA  BBB  CCC\n",
       "0    4   10  100\n",
       "2    6   30  -30"
      ]
     },
     "execution_count": 42,
     "metadata": {},
     "output_type": "execute_result"
    }
   ],
   "source": [
    "df[(df.AAA<=6)&(df.index.isin([0,2,4]))]"
   ]
  },
  {
   "cell_type": "code",
   "execution_count": 9,
   "metadata": {},
   "outputs": [
    {
     "name": "stdout",
     "output_type": "stream",
     "text": [
      "     AAA  BBB  CCC\n",
      "foo    4   10  100\n",
      "bar    5   20   50\n",
      "boo    6   30  -30\n",
      "kar    7   40  -50\n",
      "     AAA  BBB  CCC\n",
      "bar    5   20   50\n",
      "boo    6   30  -30\n",
      "kar    7   40  -50\n",
      "     AAA  BBB  CCC\n",
      "foo    4   10  100\n",
      "bar    5   20   50\n",
      "boo    6   30  -30\n",
      "     AAA  BBB  CCC\n",
      "foo    4   10  100\n",
      "bar    5   20   50\n",
      "boo    6   30  -30\n",
      "   AAA  BBB  CCC\n",
      "2    5   20   50\n",
      "3    6   30  -30\n",
      "   AAA  BBB  CCC\n",
      "1    4   10  100\n",
      "2    5   20   50\n",
      "3    6   30  -30\n"
     ]
    }
   ],
   "source": [
    "data={'AAA':[4,5,6,7],'BBB':[10,20,30,40],'CCC':[100,50,-30,-50]}\n",
    "df=pd.DataFrame(data=data,index=['foo','bar','boo','kar'])\n",
    "print(df)\n",
    "print(df.loc['bar':'kar'])\n",
    "print(df.iloc[0:3])\n",
    "print(df.loc['foo':'boo'])\n",
    "\n",
    "df2=pd.DataFrame(data=data,index=[1,2,3,4])\n",
    "print(df2.iloc[1:3])\n",
    "print(df2.loc[1:3])"
   ]
  },
  {
   "cell_type": "code",
   "execution_count": 12,
   "metadata": {},
   "outputs": [
    {
     "name": "stdout",
     "output_type": "stream",
     "text": [
      "   AAA  BBB  CCC\n",
      "0    4   10  100\n",
      "1    5   20   50\n",
      "2    6   30  -30\n",
      "3    7   40  -50\n",
      "   AAA  BBB  CCC\n",
      "1    5   20   50\n",
      "3    7   40  -50\n"
     ]
    }
   ],
   "source": [
    "df = pd.DataFrame({'AAA' : [4,5,6,7], 'BBB' : [10,20,30,40], 'CCC' : [100,50,-30,-50]})\n",
    "print(df)\n",
    "print(df[~((df.AAA<=6)&(df.index.isin([0,2,4])))])"
   ]
  },
  {
   "cell_type": "code",
   "execution_count": 21,
   "metadata": {
    "scrolled": false
   },
   "outputs": [
    {
     "name": "stdout",
     "output_type": "stream",
     "text": [
      "                       df1       df2       df3\n",
      "major      minor                              \n",
      "2017-01-01 A     -0.245390 -0.245390 -0.245390\n",
      "           B      0.954744  0.954744  0.954744\n",
      "           C     -1.333614 -1.333614 -1.333614\n",
      "           D     -1.530299 -1.530299 -1.530299\n",
      "2017-01-02 A      0.480685  0.480685  0.480685\n",
      "           B     -0.813736 -0.813736 -0.813736\n",
      "           C     -0.472144 -0.472144 -0.472144\n",
      "           D      1.686483  1.686483  1.686483\n",
      "2017-01-03 A     -0.905119 -0.905119 -0.905119\n",
      "           B      2.453812  2.453812  2.453812\n",
      "           C     -0.165101 -0.165101 -0.165101\n",
      "           D     -0.305333 -0.305333 -0.305333\n",
      "2017-01-04 A     -1.459380 -1.459380 -1.459380\n",
      "           B      1.544037  1.544037  1.544037\n",
      "           C      0.168311  0.168311  0.168311\n",
      "           D      0.251036  0.251036  0.251036\n",
      "2017-01-05 A     -1.455718 -1.455718 -1.455718\n",
      "           B      0.594604  0.594604  0.594604\n",
      "           C      0.195403  0.195403  0.195403\n",
      "           D      0.131771  0.131771  0.131771\n",
      "                 df1       df2       df3\n",
      "2017-01-01 -1.530299 -1.530299 -1.530299\n",
      "2017-01-02  1.686483  1.686483  1.686483\n",
      "2017-01-03 -0.305333 -0.305333 -0.305333\n",
      "2017-01-04  0.251036  0.251036  0.251036\n",
      "2017-01-05  0.131771  0.131771  0.131771\n"
     ]
    }
   ],
   "source": [
    "#有疑问？？？\n",
    "rng=pd.date_range('1/1/2017',periods=5,freq='D')\n",
    "data=np.random.randn(5,4)\n",
    "cols=['A','B','C','D']\n",
    "df1,df2,df3=pd.DataFrame(data,rng,cols),pd.DataFrame(data,rng,cols),pd.DataFrame(data,rng,cols)\n",
    "pf=pd.Panel({\n",
    "    'df1':df1,\n",
    "    'df2':df2,\n",
    "    'df3':df3\n",
    "})\n",
    "print(pf.to_frame())\n",
    "pf.loc[:,:,'F'] = pd.DataFrame(data, rng, cols)\n",
    "print(pf[:,:,'D'])\n"
   ]
  },
  {
   "cell_type": "code",
   "execution_count": 28,
   "metadata": {},
   "outputs": [
    {
     "name": "stdout",
     "output_type": "stream",
     "text": [
      "   AAA  BBB  CCC\n",
      "0    1    1    2\n",
      "1    2    1    1\n",
      "2    1    2    3\n",
      "3    3    2    1\n",
      "   AAA  BBB  CCC   AAAcat BBBcat   CCCcat\n",
      "0    1    1    2    Alpha  Alpha     Beta\n",
      "1    2    1    1     Beta  Alpha    Alpha\n",
      "2    1    2    3    Alpha   Beta  Charlie\n",
      "3    3    2    1  Charlie   Beta    Alpha\n"
     ]
    }
   ],
   "source": [
    "df = pd.DataFrame({'AAA' : [1,2,1,3], 'BBB' : [1,1,2,2], 'CCC' : [2,1,3,1]})\n",
    "print(df)\n",
    "source_cols=df.columns\n",
    "new_cols=[str(x)+\"cat\" for x in source_cols]\n",
    "categories={1:'Alpha',2:'Beta',3:'Charlie'}\n",
    "df[new_cols]=df[source_cols].applymap(categories.get)\n",
    "print(df)"
   ]
  },
  {
   "cell_type": "code",
   "execution_count": 30,
   "metadata": {},
   "outputs": [
    {
     "name": "stdout",
     "output_type": "stream",
     "text": [
      "0    a\n",
      "1    b\n",
      "2    b\n",
      "3    a\n",
      "4    a\n",
      "5    e\n",
      "Name: grade, dtype: category\n",
      "Categories (3, object): [a, b, e]\n",
      "0    very good\n",
      "1         good\n",
      "2         good\n",
      "3    very good\n",
      "4    very good\n",
      "5     very bad\n",
      "Name: grade, dtype: category\n",
      "Categories (3, object): [very good, good, very bad]\n"
     ]
    }
   ],
   "source": [
    "import pandas as pd\n",
    "import numpy as np\n",
    "\n",
    "df = pd.DataFrame({\"id\":[1,2,3,4,5,6], \"raw_grade\":['a', 'b', 'b', 'a', 'a', 'e']})\n",
    "#将raw_grade列转化为category类型\n",
    "df[\"grade\"] = df[\"raw_grade\"].astype(\"category\")\n",
    "print(df[\"grade\"])\n",
    "df[\"grade\"].cat.categories = [\"very good\", \"good\", \"very bad\"]\n",
    "print(df[\"grade\"])\n"
   ]
  }
 ],
 "metadata": {
  "kernelspec": {
   "display_name": "Python 3",
   "language": "python",
   "name": "python3"
  },
  "language_info": {
   "codemirror_mode": {
    "name": "ipython",
    "version": 3
   },
   "file_extension": ".py",
   "mimetype": "text/x-python",
   "name": "python",
   "nbconvert_exporter": "python",
   "pygments_lexer": "ipython3",
   "version": "3.6.1"
  }
 },
 "nbformat": 4,
 "nbformat_minor": 2
}
