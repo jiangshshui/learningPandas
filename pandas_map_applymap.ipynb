{
 "cells": [
  {
   "cell_type": "code",
   "execution_count": 9,
   "metadata": {},
   "outputs": [
    {
     "name": "stdout",
     "output_type": "stream",
     "text": [
      "               d         b         e\n",
      "Utah   -1.023692  1.055544 -0.612277\n",
      "Ohio    2.717967 -0.781106 -1.038383\n",
      "Texas   1.915156 -0.923102 -0.983770\n",
      "Oregon  1.313919 -0.958235  0.778876\n",
      "d    3.741659\n",
      "b    2.013778\n",
      "e    1.817259\n",
      "dtype: float64\n",
      "            d      b      e\n",
      "Utah    -1.02   1.06  -0.61\n",
      "Ohio     2.72  -0.78  -1.04\n",
      "Texas    1.92  -0.92  -0.98\n",
      "Oregon   1.31  -0.96   0.78\n",
      "Utah      -0.61\n",
      "Ohio      -1.04\n",
      "Texas     -0.98\n",
      "Oregon     0.78\n",
      "Name: e, dtype: object\n"
     ]
    }
   ],
   "source": [
    "import pandas as pd\n",
    "import numpy as np\n",
    "pf=pd.DataFrame(np.random.randn(4,3),columns=list('dbe'),index=['Utah', 'Ohio', 'Texas', 'Oregon'])\n",
    "print(pf)\n",
    "\n",
    "f=lambda x:x.max()-x.min()\n",
    "print(pf.apply(f))  #对所有的列进行运算  一列一列的进行\n",
    "\n",
    "format=lambda x:'%.2f' %x\n",
    "print(pf.applymap(format)) #对所有的元素进行运算\n",
    "\n",
    "print(pf['e'].map(format))  #对一个Series进行运算"
   ]
  }
 ],
 "metadata": {
  "kernelspec": {
   "display_name": "Python 3",
   "language": "python",
   "name": "python3"
  },
  "language_info": {
   "codemirror_mode": {
    "name": "ipython",
    "version": 3
   },
   "file_extension": ".py",
   "mimetype": "text/x-python",
   "name": "python",
   "nbconvert_exporter": "python",
   "pygments_lexer": "ipython3",
   "version": "3.6.1"
  }
 },
 "nbformat": 4,
 "nbformat_minor": 2
}
