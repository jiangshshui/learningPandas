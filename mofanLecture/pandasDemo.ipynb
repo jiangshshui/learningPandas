{
 "cells": [
  {
   "cell_type": "code",
   "execution_count": 3,
   "metadata": {},
   "outputs": [
    {
     "name": "stdout",
     "output_type": "stream",
     "text": [
      "0     1.0\n",
      "1     3.0\n",
      "2     6.0\n",
      "3     NaN\n",
      "4    44.1\n",
      "dtype: float64\n",
      "DatetimeIndex(['2017-01-01', '2017-01-02', '2017-01-03', '2017-01-04',\n",
      "               '2017-01-05', '2017-01-06'],\n",
      "              dtype='datetime64[ns]', freq='D')\n",
      "                   a         b         c         d\n",
      "2017-01-01 -0.017155 -0.315854 -0.247946  0.192435\n",
      "2017-01-02 -0.114355 -1.414538  0.988468  0.239178\n",
      "2017-01-03  1.787314  0.051595 -0.488070  0.245760\n",
      "2017-01-04  0.266022  0.810857 -1.814719  0.949475\n",
      "2017-01-05  1.075024  1.255045 -0.428645 -0.225890\n",
      "2017-01-06 -1.022899 -1.118574 -0.186927  0.370391\n",
      "   0  1   2   3\n",
      "0  0  1   2   3\n",
      "1  4  5   6   7\n",
      "2  8  9  10  11\n"
     ]
    }
   ],
   "source": [
    "import numpy as np\n",
    "import pandas as pd\n",
    "s=pd.Series([1,3,6,np.nan,44.1])\n",
    "print(s)\n",
    "\n",
    "dates=pd.date_range('20170101',periods=6)\n",
    "print(dates)\n",
    "\n",
    "df=pd.DataFrame(np.random.randn(6,4),index=dates,columns=['a','b','c','d'])\n",
    "print(df)\n",
    "\n",
    "df=pd.DataFrame(np.arange(12).reshape(3,4))\n",
    "print(df)\n",
    "\n"
   ]
  },
  {
   "cell_type": "code",
   "execution_count": 13,
   "metadata": {},
   "outputs": [
    {
     "name": "stdout",
     "output_type": "stream",
     "text": [
      "   A          B    C  D      E    F\n",
      "1  1 2017-11-21  1.0  3   test  foo\n",
      "2  1 2017-11-21  1.0  3  train  foo\n",
      "3  1 2017-11-21  1.0  3   test  foo\n",
      "4  1 2017-11-21  1.0  3  train  foo\n",
      "\n",
      "A             int64\n",
      "B    datetime64[ns]\n",
      "C           float32\n",
      "D             int32\n",
      "E          category\n",
      "F            object\n",
      "dtype: object\n",
      "\n",
      "Int64Index([1, 2, 3, 4], dtype='int64')\n",
      "\n",
      "Index(['A', 'B', 'C', 'D', 'E', 'F'], dtype='object')\n",
      "\n",
      "[[1 Timestamp('2017-11-21 00:00:00') 1.0 3 'test' 'foo']\n",
      " [1 Timestamp('2017-11-21 00:00:00') 1.0 3 'train' 'foo']\n",
      " [1 Timestamp('2017-11-21 00:00:00') 1.0 3 'test' 'foo']\n",
      " [1 Timestamp('2017-11-21 00:00:00') 1.0 3 'train' 'foo']]\n",
      "\n",
      "         A    C    D\n",
      "count  4.0  4.0  4.0\n",
      "mean   1.0  1.0  3.0\n",
      "std    0.0  0.0  0.0\n",
      "min    1.0  1.0  3.0\n",
      "25%    1.0  1.0  3.0\n",
      "50%    1.0  1.0  3.0\n",
      "75%    1.0  1.0  3.0\n",
      "max    1.0  1.0  3.0\n"
     ]
    }
   ],
   "source": [
    "df2=pd.DataFrame({\n",
    "    'A':1,\n",
    "    'B':pd.Timestamp('20171121'),\n",
    "    'C':pd.Series(1,index=list(range(1,5)),dtype=np.float32),\n",
    "    'D':np.array([3]*4,dtype=np.int32),\n",
    "    'E':pd.Categorical([\"test\",\"train\",\"test\",\"train\"]),\n",
    "    'F':'foo'\n",
    "})\n",
    "\n",
    "print(df2)\n",
    "print()\n",
    "print(df2.dtypes)\n",
    "print()\n",
    "print(df2.index)\n",
    "print()\n",
    "print(df2.columns)\n",
    "print()\n",
    "print(df2.values)\n",
    "print()\n",
    "print(df2.describe())#只能描述数据"
   ]
  },
  {
   "cell_type": "code",
   "execution_count": 18,
   "metadata": {},
   "outputs": [
    {
     "name": "stdout",
     "output_type": "stream",
     "text": [
      "                     1                    2                    3  \\\n",
      "A                    1                    1                    1   \n",
      "B  2017-11-21 00:00:00  2017-11-21 00:00:00  2017-11-21 00:00:00   \n",
      "C                    1                    1                    1   \n",
      "D                    3                    3                    3   \n",
      "E                 test                train                 test   \n",
      "F                  foo                  foo                  foo   \n",
      "\n",
      "                     4  \n",
      "A                    1  \n",
      "B  2017-11-21 00:00:00  \n",
      "C                    1  \n",
      "D                    3  \n",
      "E                train  \n",
      "F                  foo  \n"
     ]
    }
   ],
   "source": [
    "print(df2.T)"
   ]
  },
  {
   "cell_type": "code",
   "execution_count": 23,
   "metadata": {},
   "outputs": [
    {
     "name": "stdout",
     "output_type": "stream",
     "text": [
      "     F      E  D    C          B  A\n",
      "1  foo   test  3  1.0 2017-11-21  1\n",
      "2  foo  train  3  1.0 2017-11-21  1\n",
      "3  foo   test  3  1.0 2017-11-21  1\n",
      "4  foo  train  3  1.0 2017-11-21  1\n",
      "   A          B    C  D      E    F\n",
      "4  1 2017-11-21  1.0  3  train  foo\n",
      "3  1 2017-11-21  1.0  3   test  foo\n",
      "2  1 2017-11-21  1.0  3  train  foo\n",
      "1  1 2017-11-21  1.0  3   test  foo\n",
      "   A          B    C  D      E    F\n",
      "1  1 2017-11-21  1.0  3   test  foo\n",
      "3  1 2017-11-21  1.0  3   test  foo\n",
      "2  1 2017-11-21  1.0  3  train  foo\n",
      "4  1 2017-11-21  1.0  3  train  foo\n"
     ]
    }
   ],
   "source": [
    "print(df2.sort_index(axis=1,ascending=False))\n",
    "print(df2.sort_index(axis=0,ascending=False))\n",
    "print(df2.sort_values(by='E'))"
   ]
  },
  {
   "cell_type": "code",
   "execution_count": 26,
   "metadata": {},
   "outputs": [
    {
     "name": "stdout",
     "output_type": "stream",
     "text": [
      "             A   B   C   D\n",
      "2017-01-01   0   1   2   3\n",
      "2017-01-02   4   5   6   7\n",
      "2017-01-03   8   9  10  11\n",
      "2017-01-04  12  13  14  15\n",
      "2017-01-05  16  17  18  19\n",
      "2017-01-06  20  21  22  23\n",
      "\n",
      "2017-01-01     0\n",
      "2017-01-02     4\n",
      "2017-01-03     8\n",
      "2017-01-04    12\n",
      "2017-01-05    16\n",
      "2017-01-06    20\n",
      "Freq: D, Name: A, dtype: int32\n",
      "\n",
      "2017-01-01     0\n",
      "2017-01-02     4\n",
      "2017-01-03     8\n",
      "2017-01-04    12\n",
      "2017-01-05    16\n",
      "2017-01-06    20\n",
      "Freq: D, Name: A, dtype: int32\n"
     ]
    }
   ],
   "source": [
    "date=pd.date_range('20170101',periods=6)\n",
    "df=pd.DataFrame(np.arange(24).reshape((6,4)),index=date,columns=['A','B','C','D'])\n",
    "print(df)\n",
    "print()\n",
    "print(df.A)\n",
    "print()\n",
    "print(df['A'])"
   ]
  },
  {
   "cell_type": "code",
   "execution_count": 33,
   "metadata": {},
   "outputs": [
    {
     "name": "stdout",
     "output_type": "stream",
     "text": [
      "            A  B   C   D\n",
      "2017-01-01  0  1   2   3\n",
      "2017-01-02  4  5   6   7\n",
      "2017-01-03  8  9  10  11\n",
      "\n",
      "             A   B   C   D\n",
      "2017-01-01   0   1   2   3\n",
      "2017-01-02   4   5   6   7\n",
      "2017-01-03   8   9  10  11\n",
      "2017-01-04  12  13  14  15\n",
      "\n",
      "A    0\n",
      "B    1\n",
      "C    2\n",
      "D    3\n",
      "Name: 2017-01-01 00:00:00, dtype: int32\n",
      "\n",
      "             A   B\n",
      "2017-01-01   0   1\n",
      "2017-01-02   4   5\n",
      "2017-01-03   8   9\n",
      "2017-01-04  12  13\n",
      "2017-01-05  16  17\n",
      "2017-01-06  20  21\n",
      "\n",
      "             A   B\n",
      "2017-01-03   8   9\n",
      "2017-01-04  12  13\n",
      "2017-01-05  16  17\n",
      "2017-01-06  20  21\n"
     ]
    }
   ],
   "source": [
    "#select by loc\n",
    "print(df[0:3])\n",
    "print()\n",
    "print(df['20170101':'20170104'])\n",
    "print()\n",
    "print(df.loc['20170101'])\n",
    "print()\n",
    "print(df.loc[:,['A','B']])\n",
    "print()\n",
    "print(df.loc['20170103':,['A','B']])"
   ]
  },
  {
   "cell_type": "code",
   "execution_count": 38,
   "metadata": {},
   "outputs": [
    {
     "name": "stdout",
     "output_type": "stream",
     "text": [
      "A    12\n",
      "B    13\n",
      "C    14\n",
      "D    15\n",
      "Name: 2017-01-04 00:00:00, dtype: int32\n",
      "13\n",
      "\n",
      "             B   C\n",
      "2017-01-02   5   6\n",
      "2017-01-04  13  14\n",
      "2017-01-06  21  22\n"
     ]
    }
   ],
   "source": [
    "#select by position iloc\n",
    "print(df.iloc[3])\n",
    "print(df.iloc[3,1])\n",
    "print()\n",
    "print(df.iloc[[1,3,5],1:3])"
   ]
  },
  {
   "cell_type": "code",
   "execution_count": 43,
   "metadata": {},
   "outputs": [
    {
     "name": "stdout",
     "output_type": "stream",
     "text": [
      "            A   C\n",
      "2017-01-01  0   2\n",
      "2017-01-02  4   6\n",
      "2017-01-03  8  10\n"
     ]
    }
   ],
   "source": [
    "#mixed selection:ix   deprecated  不建议使用\n",
    "print(df.ix[:3,['A','C']])"
   ]
  },
  {
   "cell_type": "code",
   "execution_count": 44,
   "metadata": {},
   "outputs": [
    {
     "name": "stdout",
     "output_type": "stream",
     "text": [
      "            A  B  C  D\n",
      "2017-01-01  0  1  2  3\n",
      "2017-01-02  4  5  6  7\n"
     ]
    }
   ],
   "source": [
    "print(df[df.A<8])"
   ]
  },
  {
   "cell_type": "code",
   "execution_count": null,
   "metadata": {},
   "outputs": [],
   "source": []
  }
 ],
 "metadata": {
  "kernelspec": {
   "display_name": "Python 3",
   "language": "python",
   "name": "python3"
  },
  "language_info": {
   "codemirror_mode": {
    "name": "ipython",
    "version": 3
   },
   "file_extension": ".py",
   "mimetype": "text/x-python",
   "name": "python",
   "nbconvert_exporter": "python",
   "pygments_lexer": "ipython3",
   "version": "3.6.1"
  }
 },
 "nbformat": 4,
 "nbformat_minor": 2
}
