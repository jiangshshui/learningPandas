{
 "cells": [
  {
   "cell_type": "code",
   "execution_count": 3,
   "metadata": {},
   "outputs": [
    {
     "name": "stdout",
     "output_type": "stream",
     "text": [
      "0     1.0\n",
      "1     3.0\n",
      "2     6.0\n",
      "3     NaN\n",
      "4    44.1\n",
      "dtype: float64\n",
      "DatetimeIndex(['2017-01-01', '2017-01-02', '2017-01-03', '2017-01-04',\n",
      "               '2017-01-05', '2017-01-06'],\n",
      "              dtype='datetime64[ns]', freq='D')\n",
      "                   a         b         c         d\n",
      "2017-01-01 -0.017155 -0.315854 -0.247946  0.192435\n",
      "2017-01-02 -0.114355 -1.414538  0.988468  0.239178\n",
      "2017-01-03  1.787314  0.051595 -0.488070  0.245760\n",
      "2017-01-04  0.266022  0.810857 -1.814719  0.949475\n",
      "2017-01-05  1.075024  1.255045 -0.428645 -0.225890\n",
      "2017-01-06 -1.022899 -1.118574 -0.186927  0.370391\n",
      "   0  1   2   3\n",
      "0  0  1   2   3\n",
      "1  4  5   6   7\n",
      "2  8  9  10  11\n"
     ]
    }
   ],
   "source": [
    "import numpy as np\n",
    "import pandas as pd\n",
    "s=pd.Series([1,3,6,np.nan,44.1])\n",
    "print(s)\n",
    "\n",
    "dates=pd.date_range('20170101',periods=6)\n",
    "print(dates)\n",
    "\n",
    "df=pd.DataFrame(np.random.randn(6,4),index=dates,columns=['a','b','c','d'])\n",
    "print(df)\n",
    "\n",
    "df=pd.DataFrame(np.arange(12).reshape(3,4))\n",
    "print(df)\n",
    "\n"
   ]
  },
  {
   "cell_type": "code",
   "execution_count": 13,
   "metadata": {},
   "outputs": [
    {
     "name": "stdout",
     "output_type": "stream",
     "text": [
      "   A          B    C  D      E    F\n",
      "1  1 2017-11-21  1.0  3   test  foo\n",
      "2  1 2017-11-21  1.0  3  train  foo\n",
      "3  1 2017-11-21  1.0  3   test  foo\n",
      "4  1 2017-11-21  1.0  3  train  foo\n",
      "\n",
      "A             int64\n",
      "B    datetime64[ns]\n",
      "C           float32\n",
      "D             int32\n",
      "E          category\n",
      "F            object\n",
      "dtype: object\n",
      "\n",
      "Int64Index([1, 2, 3, 4], dtype='int64')\n",
      "\n",
      "Index(['A', 'B', 'C', 'D', 'E', 'F'], dtype='object')\n",
      "\n",
      "[[1 Timestamp('2017-11-21 00:00:00') 1.0 3 'test' 'foo']\n",
      " [1 Timestamp('2017-11-21 00:00:00') 1.0 3 'train' 'foo']\n",
      " [1 Timestamp('2017-11-21 00:00:00') 1.0 3 'test' 'foo']\n",
      " [1 Timestamp('2017-11-21 00:00:00') 1.0 3 'train' 'foo']]\n",
      "\n",
      "         A    C    D\n",
      "count  4.0  4.0  4.0\n",
      "mean   1.0  1.0  3.0\n",
      "std    0.0  0.0  0.0\n",
      "min    1.0  1.0  3.0\n",
      "25%    1.0  1.0  3.0\n",
      "50%    1.0  1.0  3.0\n",
      "75%    1.0  1.0  3.0\n",
      "max    1.0  1.0  3.0\n"
     ]
    }
   ],
   "source": [
    "df2=pd.DataFrame({\n",
    "    'A':1,\n",
    "    'B':pd.Timestamp('20171121'),\n",
    "    'C':pd.Series(1,index=list(range(1,5)),dtype=np.float32),\n",
    "    'D':np.array([3]*4,dtype=np.int32),\n",
    "    'E':pd.Categorical([\"test\",\"train\",\"test\",\"train\"]),\n",
    "    'F':'foo'\n",
    "})\n",
    "\n",
    "print(df2)\n",
    "print()\n",
    "print(df2.dtypes)\n",
    "print()\n",
    "print(df2.index)\n",
    "print()\n",
    "print(df2.columns)\n",
    "print()\n",
    "print(df2.values)\n",
    "print()\n",
    "print(df2.describe())#只能描述数据"
   ]
  },
  {
   "cell_type": "code",
   "execution_count": 18,
   "metadata": {},
   "outputs": [
    {
     "name": "stdout",
     "output_type": "stream",
     "text": [
      "                     1                    2                    3  \\\n",
      "A                    1                    1                    1   \n",
      "B  2017-11-21 00:00:00  2017-11-21 00:00:00  2017-11-21 00:00:00   \n",
      "C                    1                    1                    1   \n",
      "D                    3                    3                    3   \n",
      "E                 test                train                 test   \n",
      "F                  foo                  foo                  foo   \n",
      "\n",
      "                     4  \n",
      "A                    1  \n",
      "B  2017-11-21 00:00:00  \n",
      "C                    1  \n",
      "D                    3  \n",
      "E                train  \n",
      "F                  foo  \n"
     ]
    }
   ],
   "source": [
    "print(df2.T)"
   ]
  },
  {
   "cell_type": "code",
   "execution_count": 23,
   "metadata": {},
   "outputs": [
    {
     "name": "stdout",
     "output_type": "stream",
     "text": [
      "     F      E  D    C          B  A\n",
      "1  foo   test  3  1.0 2017-11-21  1\n",
      "2  foo  train  3  1.0 2017-11-21  1\n",
      "3  foo   test  3  1.0 2017-11-21  1\n",
      "4  foo  train  3  1.0 2017-11-21  1\n",
      "   A          B    C  D      E    F\n",
      "4  1 2017-11-21  1.0  3  train  foo\n",
      "3  1 2017-11-21  1.0  3   test  foo\n",
      "2  1 2017-11-21  1.0  3  train  foo\n",
      "1  1 2017-11-21  1.0  3   test  foo\n",
      "   A          B    C  D      E    F\n",
      "1  1 2017-11-21  1.0  3   test  foo\n",
      "3  1 2017-11-21  1.0  3   test  foo\n",
      "2  1 2017-11-21  1.0  3  train  foo\n",
      "4  1 2017-11-21  1.0  3  train  foo\n"
     ]
    }
   ],
   "source": [
    "print(df2.sort_index(axis=1,ascending=False))\n",
    "print(df2.sort_index(axis=0,ascending=False))\n",
    "print(df2.sort_values(by='E'))"
   ]
  },
  {
   "cell_type": "code",
   "execution_count": 26,
   "metadata": {},
   "outputs": [
    {
     "name": "stdout",
     "output_type": "stream",
     "text": [
      "             A   B   C   D\n",
      "2017-01-01   0   1   2   3\n",
      "2017-01-02   4   5   6   7\n",
      "2017-01-03   8   9  10  11\n",
      "2017-01-04  12  13  14  15\n",
      "2017-01-05  16  17  18  19\n",
      "2017-01-06  20  21  22  23\n",
      "\n",
      "2017-01-01     0\n",
      "2017-01-02     4\n",
      "2017-01-03     8\n",
      "2017-01-04    12\n",
      "2017-01-05    16\n",
      "2017-01-06    20\n",
      "Freq: D, Name: A, dtype: int32\n",
      "\n",
      "2017-01-01     0\n",
      "2017-01-02     4\n",
      "2017-01-03     8\n",
      "2017-01-04    12\n",
      "2017-01-05    16\n",
      "2017-01-06    20\n",
      "Freq: D, Name: A, dtype: int32\n"
     ]
    }
   ],
   "source": [
    "date=pd.date_range('20170101',periods=6)\n",
    "df=pd.DataFrame(np.arange(24).reshape((6,4)),index=date,columns=['A','B','C','D'])\n",
    "print(df)\n",
    "print()\n",
    "print(df.A)\n",
    "print()\n",
    "print(df['A'])"
   ]
  },
  {
   "cell_type": "code",
   "execution_count": 33,
   "metadata": {},
   "outputs": [
    {
     "name": "stdout",
     "output_type": "stream",
     "text": [
      "            A  B   C   D\n",
      "2017-01-01  0  1   2   3\n",
      "2017-01-02  4  5   6   7\n",
      "2017-01-03  8  9  10  11\n",
      "\n",
      "             A   B   C   D\n",
      "2017-01-01   0   1   2   3\n",
      "2017-01-02   4   5   6   7\n",
      "2017-01-03   8   9  10  11\n",
      "2017-01-04  12  13  14  15\n",
      "\n",
      "A    0\n",
      "B    1\n",
      "C    2\n",
      "D    3\n",
      "Name: 2017-01-01 00:00:00, dtype: int32\n",
      "\n",
      "             A   B\n",
      "2017-01-01   0   1\n",
      "2017-01-02   4   5\n",
      "2017-01-03   8   9\n",
      "2017-01-04  12  13\n",
      "2017-01-05  16  17\n",
      "2017-01-06  20  21\n",
      "\n",
      "             A   B\n",
      "2017-01-03   8   9\n",
      "2017-01-04  12  13\n",
      "2017-01-05  16  17\n",
      "2017-01-06  20  21\n"
     ]
    }
   ],
   "source": [
    "#select by loc\n",
    "print(df[0:3])\n",
    "print()\n",
    "print(df['20170101':'20170104'])\n",
    "print()\n",
    "print(df.loc['20170101'])\n",
    "print()\n",
    "print(df.loc[:,['A','B']])\n",
    "print()\n",
    "print(df.loc['20170103':,['A','B']])"
   ]
  },
  {
   "cell_type": "code",
   "execution_count": 38,
   "metadata": {},
   "outputs": [
    {
     "name": "stdout",
     "output_type": "stream",
     "text": [
      "A    12\n",
      "B    13\n",
      "C    14\n",
      "D    15\n",
      "Name: 2017-01-04 00:00:00, dtype: int32\n",
      "13\n",
      "\n",
      "             B   C\n",
      "2017-01-02   5   6\n",
      "2017-01-04  13  14\n",
      "2017-01-06  21  22\n"
     ]
    }
   ],
   "source": [
    "#select by position iloc\n",
    "print(df.iloc[3])\n",
    "print(df.iloc[3,1])\n",
    "print()\n",
    "print(df.iloc[[1,3,5],1:3])"
   ]
  },
  {
   "cell_type": "code",
   "execution_count": 43,
   "metadata": {},
   "outputs": [
    {
     "name": "stdout",
     "output_type": "stream",
     "text": [
      "            A   C\n",
      "2017-01-01  0   2\n",
      "2017-01-02  4   6\n",
      "2017-01-03  8  10\n"
     ]
    }
   ],
   "source": [
    "#mixed selection:ix   deprecated  不建议使用\n",
    "print(df.ix[:3,['A','C']])"
   ]
  },
  {
   "cell_type": "code",
   "execution_count": 44,
   "metadata": {},
   "outputs": [
    {
     "name": "stdout",
     "output_type": "stream",
     "text": [
      "            A  B  C  D\n",
      "2017-01-01  0  1  2  3\n",
      "2017-01-02  4  5  6  7\n"
     ]
    }
   ],
   "source": [
    "print(df[df.A<8])"
   ]
  },
  {
   "cell_type": "code",
   "execution_count": 62,
   "metadata": {},
   "outputs": [
    {
     "name": "stdout",
     "output_type": "stream",
     "text": [
      "             A   B   C   D\n",
      "2017-01-01   0   1   2   3\n",
      "2017-01-02   4   5   6   7\n",
      "2017-01-03   8   9  10  11\n",
      "2017-01-04  12  13  14  15\n",
      "2017-01-05  16  17  18  19\n",
      "2017-01-06  20  21  22  23\n",
      "\n",
      "            A     B    C   D   E  F\n",
      "2017-01-01  0  2222    2   3 NaN  1\n",
      "2017-01-02  4     5    6   7 NaN  2\n",
      "2017-01-03  8     9  111  11 NaN  3\n",
      "2017-01-04  0    13   14  15 NaN  4\n",
      "2017-01-05  0    17   18  19 NaN  5\n",
      "2017-01-06  0    21   22  23 NaN  6\n"
     ]
    }
   ],
   "source": [
    "df=pd.DataFrame(np.arange(24).reshape((6,4)),index=date,columns=['A','B','C','D'])\n",
    "print(df)\n",
    "print()\n",
    "df.iloc[2,2]=111\n",
    "df.loc['20170101','B']=2222\n",
    "df.A[df.A>10]=0\n",
    "df['E']=np.nan\n",
    "df['F']=pd.Series([1,2,3,4,5,6],index=pd.date_range('20170101',periods=6))#index 必须和原来的相同\n",
    "print(df)\n"
   ]
  },
  {
   "cell_type": "code",
   "execution_count": 70,
   "metadata": {},
   "outputs": [
    {
     "name": "stdout",
     "output_type": "stream",
     "text": [
      "             a   b   c   d\n",
      "2017-01-01   0   1   2   3\n",
      "2017-01-02   4   5   6   7\n",
      "2017-01-03   8   9  10  11\n",
      "2017-01-04  12  13  14  15\n",
      "2017-01-05  16  17  18  19\n",
      "2017-01-06  20  21  22  23\n",
      "             a   d\n",
      "2017-01-01   0   3\n",
      "2017-01-02   4   7\n",
      "2017-01-03   8  11\n",
      "2017-01-04  12  15\n",
      "2017-01-05  16  19\n",
      "2017-01-06  20  23\n",
      "             a     b     c   d\n",
      "2017-01-01   0   NaN   2.0   3\n",
      "2017-01-02   4   5.0   NaN   7\n",
      "2017-01-03   8   9.0  10.0  11\n",
      "2017-01-04  12  13.0  14.0  15\n",
      "2017-01-05  16  17.0  18.0  19\n",
      "2017-01-06  20  21.0  22.0  23\n",
      "             a     b     c   d\n",
      "2017-01-01   0   0.0   2.0   3\n",
      "2017-01-02   4   5.0   0.0   7\n",
      "2017-01-03   8   9.0  10.0  11\n",
      "2017-01-04  12  13.0  14.0  15\n",
      "2017-01-05  16  17.0  18.0  19\n",
      "2017-01-06  20  21.0  22.0  23\n",
      "                a      b      c      d\n",
      "2017-01-01  False   True  False  False\n",
      "2017-01-02  False  False   True  False\n",
      "2017-01-03  False  False  False  False\n",
      "2017-01-04  False  False  False  False\n",
      "2017-01-05  False  False  False  False\n",
      "2017-01-06  False  False  False  False\n",
      "True\n"
     ]
    }
   ],
   "source": [
    "#处理丢失的数据\n",
    "dates=pd.date_range('20170101',periods=6)\n",
    "df=pd.DataFrame(np.arange(24).reshape(6,4),index=dates,columns=['a','b','c','d'])\n",
    "print(df)\n",
    "df.iloc[0,1]=np.nan\n",
    "df.iloc[1,2]=np.nan\n",
    "print(df.dropna(axis=1,how='any'))\n",
    "print(df.dropna(axis=0,how='all'))\n",
    "print(df.fillna(value=0))\n",
    "print(df.isnull())\n",
    "print(np.any(df.isnull()==True))"
   ]
  },
  {
   "cell_type": "code",
   "execution_count": 75,
   "metadata": {
    "collapsed": true
   },
   "outputs": [
    {
     "name": "stdout",
     "output_type": "stream",
     "text": [
      "    Day    T    TM   Tm     SLP   H    PP    VV     V    VM VG   RA   SN  TS  \\\n",
      "0     1  5.3   6.6  1.1  1026.3  81  0.51   5.0   4.6   7.2  -    o  NaN NaN   \n",
      "1     2  5.3   5.7  4.8  1025.5  95  2.03   1.8   7.2   7.2  -    o  NaN NaN   \n",
      "2     3  3.3   5.4  0.8  1031.3  89  7.11   5.1  11.9  14.4  -    o  NaN NaN   \n",
      "3     4  1.6   4.2 -0.1  1034.2  73  0.00  15.0  10.2  14.4  -    o  NaN NaN   \n",
      "4     5  2.1   5.6 -0.2  1029.4  75  0.00  14.0   4.6   7.2  -  NaN  NaN NaN   \n",
      "5     6  3.1   7.1 -0.7  1029.2  75  5.08   8.2   9.3  14.4  -    o    o NaN   \n",
      "6     7  0.6   1.2 -1.0  1033.1  88  1.52   6.9   8.7  14.4  -  NaN    o NaN   \n",
      "7     8  1.1   4.2 -1.9  1031.1  70  0.00  12.1   1.5   3.5  -  NaN  NaN NaN   \n",
      "8     9  2.1   4.9 -1.6  1028.2  76  0.00   6.9   5.2  10.7  -  NaN  NaN NaN   \n",
      "9    10  3.4   7.7 -1.5  1023.2  54  0.00  10.8   5.2   7.2  -  NaN  NaN NaN   \n",
      "10   11  4.9   9.8  0.1  1022.9  65  0.00   8.9   6.7  14.4  -  NaN  NaN NaN   \n",
      "11   12  2.7   6.9 -2.0  1029.1  55  0.00  12.4   6.7  10.7  -  NaN  NaN NaN   \n",
      "12   13  0.8   6.3 -3.6  1032.8  51  0.00  11.3   6.7  18.0  -  NaN  NaN NaN   \n",
      "13   14  0.0   4.7 -3.4  1030.9   -  0.00  14.5   5.4  10.7  -  NaN  NaN NaN   \n",
      "14   15  4.5  10.6 -3.1  1023.7  59  0.00  12.2   5.2  14.4  -  NaN  NaN NaN   \n",
      "15   16  6.4  12.1 -0.4  1023.6  60  0.00   8.7   8.3  10.7  -  NaN  NaN NaN   \n",
      "16   17  5.7   7.7  2.9  1024.0  87  0.00  10.8  11.9  21.7  -  NaN  NaN NaN   \n",
      "17   18  7.6  13.3  4.4  1022.8  80  0.00  10.0   5.7  10.7  -  NaN  NaN NaN   \n",
      "18   19  5.4  11.5  0.8  1025.7  78  0.00   6.9  10.7  14.4  -  NaN  NaN NaN   \n",
      "19   20  4.4   9.6 -0.2  1024.7  69  0.00   7.1  12.6  14.4  -  NaN  NaN NaN   \n",
      "20   21  9.1  14.1  0.5  1018.1  74  0.00   6.9   5.9   7.2  -    o  NaN NaN   \n",
      "21   22  6.0   9.2  4.3  1024.1  91  1.52   7.4   9.8  14.4  -    o  NaN NaN   \n",
      "22   23  2.2   5.2  0.3  1027.6  90  8.13   9.2  12.4  18.0  -    o    o NaN   \n",
      "23   24  0.6   2.3 -1.2  1033.0  83  0.25   8.9   5.7  10.7  -  NaN    o NaN   \n",
      "24   25  1.9   6.3 -2.1  1029.1  79  0.00  10.0   5.7   7.2  -  NaN  NaN NaN   \n",
      "25   26  4.9   9.1 -1.8  1025.1  80  0.00   9.5   7.2  14.4  -  NaN  NaN NaN   \n",
      "26   27  1.6   5.2 -1.8  1033.4  79  0.00   4.5  11.3  14.4  -  NaN  NaN NaN   \n",
      "27   28  1.2   4.4 -2.7  1031.8  65  0.00  14.2   6.7  10.7  -  NaN  NaN NaN   \n",
      "28   29  1.1   6.6 -4.0  1033.9  65  0.00  11.7   9.3  18.0  -  NaN  NaN NaN   \n",
      "29   30 -0.9   3.7 -5.0  1031.9  55  0.00  15.8   5.7  10.7  -  NaN  NaN NaN   \n",
      "30   31  5.4  11.5 -4.4  1022.2  55  0.00  16.3   4.1   7.2  -  NaN  NaN NaN   \n",
      "\n",
      "     FG  \n",
      "0   NaN  \n",
      "1     o  \n",
      "2   NaN  \n",
      "3   NaN  \n",
      "4   NaN  \n",
      "5   NaN  \n",
      "6   NaN  \n",
      "7   NaN  \n",
      "8   NaN  \n",
      "9   NaN  \n",
      "10  NaN  \n",
      "11  NaN  \n",
      "12  NaN  \n",
      "13  NaN  \n",
      "14  NaN  \n",
      "15  NaN  \n",
      "16  NaN  \n",
      "17  NaN  \n",
      "18  NaN  \n",
      "19  NaN  \n",
      "20  NaN  \n",
      "21  NaN  \n",
      "22  NaN  \n",
      "23  NaN  \n",
      "24  NaN  \n",
      "25  NaN  \n",
      "26  NaN  \n",
      "27  NaN  \n",
      "28  NaN  \n",
      "29  NaN  \n",
      "30  NaN  \n"
     ]
    }
   ],
   "source": [
    "#pandas 的导入导出\n",
    "df=pd.read_csv(\"climate.csv\")\n",
    "print(df)\n",
    "df.to_pickle('climate.pickle')"
   ]
  },
  {
   "cell_type": "code",
   "execution_count": 85,
   "metadata": {
    "collapsed": true
   },
   "outputs": [
    {
     "name": "stdout",
     "output_type": "stream",
     "text": [
      "     a    b    c    d\n",
      "0  0.0  0.0  0.0  0.0\n",
      "1  0.0  0.0  0.0  0.0\n",
      "2  0.0  0.0  0.0  0.0\n",
      "     a    b    c    d\n",
      "0  1.0  1.0  1.0  1.0\n",
      "1  1.0  1.0  1.0  1.0\n",
      "2  1.0  1.0  1.0  1.0\n",
      "     a    b    c    d\n",
      "0  2.0  2.0  2.0  2.0\n",
      "1  2.0  2.0  2.0  2.0\n",
      "2  2.0  2.0  2.0  2.0\n",
      "     a    b    c    d\n",
      "0  0.0  0.0  0.0  0.0\n",
      "1  0.0  0.0  0.0  0.0\n",
      "2  0.0  0.0  0.0  0.0\n",
      "0  1.0  1.0  1.0  1.0\n",
      "1  1.0  1.0  1.0  1.0\n",
      "2  1.0  1.0  1.0  1.0\n",
      "0  2.0  2.0  2.0  2.0\n",
      "1  2.0  2.0  2.0  2.0\n",
      "2  2.0  2.0  2.0  2.0\n",
      "    0    1    2    3    4    5    6    7    8    9    10   11\n",
      "0  0.0  0.0  0.0  0.0  1.0  1.0  1.0  1.0  2.0  2.0  2.0  2.0\n",
      "1  0.0  0.0  0.0  0.0  1.0  1.0  1.0  1.0  2.0  2.0  2.0  2.0\n",
      "2  0.0  0.0  0.0  0.0  1.0  1.0  1.0  1.0  2.0  2.0  2.0  2.0\n",
      "     a    b    c    d\n",
      "0  0.0  0.0  0.0  0.0\n",
      "1  0.0  0.0  0.0  0.0\n",
      "2  0.0  0.0  0.0  0.0\n",
      "3  1.0  1.0  1.0  1.0\n",
      "4  1.0  1.0  1.0  1.0\n",
      "5  1.0  1.0  1.0  1.0\n",
      "6  2.0  2.0  2.0  2.0\n",
      "7  2.0  2.0  2.0  2.0\n",
      "8  2.0  2.0  2.0  2.0\n"
     ]
    }
   ],
   "source": [
    "#concatenating\n",
    "df1=pd.DataFrame(np.ones((3,4))*0,columns=['a','b','c','d'])\n",
    "df2=pd.DataFrame(np.ones((3,4))*1,columns=['a','b','c','d'])\n",
    "df3=pd.DataFrame(np.ones((3,4))*2,columns=['a','b','c','d'])\n",
    "print(df1)\n",
    "print(df2)\n",
    "print(df3)\n",
    "res=pd.concat([df1,df2,df3],axis=0)\n",
    "print(res)\n",
    "res=pd.concat([df1,df2,df3],axis=1,ignore_index=True)\n",
    "print(res)\n",
    "res=pd.concat([df1,df2,df3],axis=0,ignore_index=True)\n",
    "print(res)"
   ]
  },
  {
   "cell_type": "code",
   "execution_count": 100,
   "metadata": {},
   "outputs": [
    {
     "name": "stdout",
     "output_type": "stream",
     "text": [
      "     A    B    C    D\n",
      "1  0.0  0.0  0.0  0.0\n",
      "2  0.0  0.0  0.0  0.0\n",
      "3  0.0  0.0  0.0  0.0\n",
      "     B    C    D    E\n",
      "1  1.0  1.0  1.0  1.0\n",
      "2  1.0  1.0  1.0  1.0\n",
      "3  1.0  1.0  1.0  1.0\n",
      "     A    B    C    D    E\n",
      "1  0.0  0.0  0.0  0.0  NaN\n",
      "2  0.0  0.0  0.0  0.0  NaN\n",
      "3  0.0  0.0  0.0  0.0  NaN\n",
      "1  NaN  1.0  1.0  1.0  1.0\n",
      "2  NaN  1.0  1.0  1.0  1.0\n",
      "3  NaN  1.0  1.0  1.0  1.0\n",
      "     B    C    D\n",
      "0  0.0  0.0  0.0\n",
      "1  0.0  0.0  0.0\n",
      "2  0.0  0.0  0.0\n",
      "3  1.0  1.0  1.0\n",
      "4  1.0  1.0  1.0\n",
      "5  1.0  1.0  1.0\n"
     ]
    }
   ],
   "source": [
    "df1=pd.DataFrame(np.ones((3,4))*0,columns=['A','B','C','D'],index=[1,2,3])\n",
    "df2=pd.DataFrame(np.ones((3,4))*1,columns=['B','C','D','E'],index=[1,2,3])\n",
    "print(df1)\n",
    "print(df2)\n",
    "print(pd.concat([df1,df2]))#默认的就是outer\n",
    "print(pd.concat([df1,df2],join='inner',ignore_index=True))\n"
   ]
  },
  {
   "cell_type": "code",
   "execution_count": 103,
   "metadata": {
    "collapsed": true
   },
   "outputs": [
    {
     "name": "stdout",
     "output_type": "stream",
     "text": [
      "     A    B    C    D\n",
      "1  0.0  0.0  0.0  0.0\n",
      "2  0.0  0.0  0.0  0.0\n",
      "3  0.0  0.0  0.0  0.0\n",
      "     B    C    D    E\n",
      "2  1.0  1.0  1.0  1.0\n",
      "3  1.0  1.0  1.0  1.0\n",
      "4  1.0  1.0  1.0  1.0\n",
      "     A    B    C    D    B    C    D    E\n",
      "1  0.0  0.0  0.0  0.0  NaN  NaN  NaN  NaN\n",
      "2  0.0  0.0  0.0  0.0  1.0  1.0  1.0  1.0\n",
      "3  0.0  0.0  0.0  0.0  1.0  1.0  1.0  1.0\n",
      "4  NaN  NaN  NaN  NaN  1.0  1.0  1.0  1.0\n",
      "     A    B    C    D    B    C    D    E\n",
      "1  0.0  0.0  0.0  0.0  NaN  NaN  NaN  NaN\n",
      "2  0.0  0.0  0.0  0.0  1.0  1.0  1.0  1.0\n",
      "3  0.0  0.0  0.0  0.0  1.0  1.0  1.0  1.0\n"
     ]
    }
   ],
   "source": [
    "df1=pd.DataFrame(np.ones((3,4))*0,columns=['A','B','C','D'],index=[1,2,3])\n",
    "df2=pd.DataFrame(np.ones((3,4))*1,columns=['B','C','D','E'],index=[2,3,4])\n",
    "print(df1)\n",
    "print(df2)\n",
    "print(pd.concat([df1,df2],axis=1))\n",
    "print(pd.concat([df1,df2],axis=1,join_axes=[df1.index]))"
   ]
  },
  {
   "cell_type": "code",
   "execution_count": 109,
   "metadata": {},
   "outputs": [
    {
     "name": "stdout",
     "output_type": "stream",
     "text": [
      "     A    B    C    D\n",
      "0  0.0  0.0  0.0  0.0\n",
      "1  0.0  0.0  0.0  0.0\n",
      "2  0.0  0.0  0.0  0.0\n",
      "3  1.0  1.0  1.0  1.0\n",
      "4  1.0  1.0  1.0  1.0\n",
      "5  1.0  1.0  1.0  1.0\n",
      "     A    B    C    D\n",
      "0  0.0  0.0  0.0  0.0\n",
      "1  0.0  0.0  0.0  0.0\n",
      "2  0.0  0.0  0.0  0.0\n",
      "3  1.0  1.0  1.0  1.0\n",
      "4  1.0  1.0  1.0  1.0\n",
      "5  1.0  1.0  1.0  1.0\n",
      "6  1.0  2.0  3.0  4.0\n"
     ]
    }
   ],
   "source": [
    "#append\n",
    "df1=pd.DataFrame(np.ones((3,4))*0,columns=['A','B','C','D'])\n",
    "df2=pd.DataFrame(np.ones((3,4))*1,columns=['A','B','C','D'])\n",
    "res=df1.append(df2,ignore_index=True)\n",
    "print(res)\n",
    "s=pd.Series([1,2,3,4],index=['A','B','C','D'])\n",
    "print(res.append(s,ignore_index=True))"
   ]
  },
  {
   "cell_type": "code",
   "execution_count": 113,
   "metadata": {},
   "outputs": [
    {
     "name": "stdout",
     "output_type": "stream",
     "text": [
      "    A   B key\n",
      "0  A0  B0  K0\n",
      "1  A1  B1  K1\n",
      "2  A2  B2  K2\n",
      "3  A3  B3  K3\n",
      "    C   D key\n",
      "0  C0  D0  K0\n",
      "1  C1  D1  K1\n",
      "2  C2  D2  K2\n",
      "3  C3  D3  K3\n",
      "    A   B key   C   D\n",
      "0  A0  B0  K0  C0  D0\n",
      "1  A1  B1  K1  C1  D1\n",
      "2  A2  B2  K2  C2  D2\n",
      "3  A3  B3  K3  C3  D3\n"
     ]
    }
   ],
   "source": [
    "left=pd.DataFrame({\n",
    "    'key':['K0','K1','K2','K3'],\n",
    "    'A':['A0','A1','A2','A3'],\n",
    "    'B':['B0','B1','B2','B3']\n",
    "})\n",
    "right=pd.DataFrame({\n",
    "    'key':['K0','K1','K2','K3'],\n",
    "    'C':['C0','C1','C2','C3'],\n",
    "    'D':['D0','D1','D2','D3']\n",
    "})\n",
    "print(left)\n",
    "print(right)\n",
    "res=pd.merge(left,right,on='key')\n",
    "print(res)"
   ]
  },
  {
   "cell_type": "code",
   "execution_count": 119,
   "metadata": {},
   "outputs": [
    {
     "name": "stdout",
     "output_type": "stream",
     "text": [
      "    A   B key1 key2\n",
      "0  A0  B0   K0   K0\n",
      "1  A1  B1   K1   K0\n",
      "2  A2  B2   K2   K0\n",
      "3  A3  B3   K3   K1\n",
      "    C   D key1 key2\n",
      "0  C0  D0   K0   K0\n",
      "1  C1  D1   K1   K0\n",
      "2  C2  D2   K1   K0\n",
      "3  C3  D3   K2   K0\n",
      "    A   B key1 key2   C   D\n",
      "0  A0  B0   K0   K0  C0  D0\n",
      "1  A1  B1   K1   K0  C1  D1\n",
      "2  A1  B1   K1   K0  C2  D2\n",
      "3  A2  B2   K2   K0  C3  D3\n",
      "    A   B key1 key2    C    D\n",
      "0  A0  B0   K0   K0   C0   D0\n",
      "1  A1  B1   K1   K0   C1   D1\n",
      "2  A1  B1   K1   K0   C2   D2\n",
      "3  A2  B2   K2   K0   C3   D3\n",
      "4  A3  B3   K3   K1  NaN  NaN\n",
      "    A   B key1 key2   C   D indicator_column\n",
      "0  A0  B0   K0   K0  C0  D0             both\n",
      "1  A1  B1   K1   K0  C1  D1             both\n",
      "2  A1  B1   K1   K0  C2  D2             both\n",
      "3  A2  B2   K2   K0  C3  D3             both\n"
     ]
    }
   ],
   "source": [
    "left=pd.DataFrame({\n",
    "    'key1':['K0','K1','K2','K3'],\n",
    "    'key2':['K0','K0','K0','K1'],\n",
    "    'A':['A0','A1','A2','A3'],\n",
    "    'B':['B0','B1','B2','B3']\n",
    "})\n",
    "right=pd.DataFrame({\n",
    "    'key1':['K0','K1','K1','K2'],\n",
    "    'key2':['K0','K0','K0','K0'],\n",
    "    'C':['C0','C1','C2','C3'],\n",
    "    'D':['D0','D1','D2','D3']\n",
    "})\n",
    "print(left)\n",
    "print(right)\n",
    "res=pd.merge(left,right,on=['key1','key2'],how='inner') #inner 相同的部分\n",
    "print(res)\n",
    "res=pd.merge(left,right,on=['key1','key2'],how='outer')  #outer 以某一个为标准\n",
    "print(res)\n",
    "res=pd.merge(left,right,on=['key1','key2'],how='right',indicator='indicator_column')  #outer 以某一个为标准\n",
    "#indicator=True  \n",
    "print(res)"
   ]
  }
 ],
 "metadata": {
  "kernelspec": {
   "display_name": "Python 3",
   "language": "python",
   "name": "python3"
  },
  "language_info": {
   "codemirror_mode": {
    "name": "ipython",
    "version": 3
   },
   "file_extension": ".py",
   "mimetype": "text/x-python",
   "name": "python",
   "nbconvert_exporter": "python",
   "pygments_lexer": "ipython3",
   "version": "3.6.1"
  }
 },
 "nbformat": 4,
 "nbformat_minor": 2
}
